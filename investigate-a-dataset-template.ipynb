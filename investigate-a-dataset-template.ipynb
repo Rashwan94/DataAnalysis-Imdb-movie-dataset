{
 "cells": [
  {
   "cell_type": "markdown",
   "metadata": {},
   "source": [
    "> **Tip**: Welcome to the Investigate a Dataset project! You will find tips in quoted sections like this to help organize your approach to your investigation. Before submitting your project, it will be a good idea to go back through your report and remove these sections to make the presentation of your work as tidy as possible. First things first, you might want to double-click this Markdown cell and change the title so that it reflects your dataset and investigation.\n",
    "\n",
    "# Project: Investigate a Dataset TMDb movie data\n",
    "\n",
    "\n",
    "## Table of Contents\n",
    "<ul>\n",
    "<li><a href=\"#intro\">Introduction</a></li>\n",
    "<li><a href=\"#wrangling\">Data Wrangling</a></li>\n",
    "<li><a href=\"#eda\">Exploratory Data Analysis</a></li>\n",
    "<li><a href=\"#conclusions\">Conclusions</a></li>\n",
    "</ul>"
   ]
  },
  {
   "cell_type": "markdown",
   "metadata": {},
   "source": [
    "<a id='intro'></a>\n",
    "## Introduction\n",
    "\n",
    ">  In this section; a comprehensive review on the dataset will be conducted making amends and changes where and when ever needed\n",
    "\n",
    "> Datatypes will be asssesed as well as missing values and incoherent strings or values\n",
    "\n",
    "> Finally, feature engineering will be considered to prepare the dataset for the data analysis journey\n"
   ]
  },
  {
   "cell_type": "code",
   "execution_count": 1,
   "metadata": {},
   "outputs": [],
   "source": [
    "#importing important libraries\n",
    "\n",
    "import pandas as pd \n",
    "import numpy as np\n",
    "import matplotlib.pyplot as plt\n",
    "import seaborn as sns\n",
    "import gc\n",
    "import time\n",
    "import sys\n",
    "\n",
    "# for nice visualization\n",
    "%matplotlib inline"
   ]
  },
  {
   "cell_type": "code",
   "execution_count": 2,
   "metadata": {},
   "outputs": [
    {
     "data": {
      "text/plain": [
       "'3.7.7 (default, May  6 2020, 11:45:54) [MSC v.1916 64 bit (AMD64)]'"
      ]
     },
     "execution_count": 2,
     "metadata": {},
     "output_type": "execute_result"
    }
   ],
   "source": [
    "sys.version"
   ]
  },
  {
   "cell_type": "code",
   "execution_count": 3,
   "metadata": {},
   "outputs": [
    {
     "name": "stdout",
     "output_type": "stream",
     "text": [
      " Volume in drive D has no label.\n",
      " Volume Serial Number is 2E56-A373\n",
      "\n",
      " Directory of D:\\python\\Data Analyst\\Explore a dataset\n",
      "\n",
      "17/06/2020  09:37 PM    <DIR>          .\n",
      "17/06/2020  09:37 PM    <DIR>          ..\n",
      "11/06/2020  10:04 PM    <DIR>          .ipynb_checkpoints\n",
      "10/06/2020  11:08 PM           846,279 Arvato_Project_Workbook.ipynb\n",
      "17/06/2020  04:04 AM           403,203 Exploring a dataset.ipynb\n",
      "10/06/2020  11:51 PM           586,549 Freelance.ipynb\n",
      "17/06/2020  09:37 PM           409,980 investigate-a-dataset-template.ipynb\n",
      "11/06/2020  03:11 PM         6,883,750 tmdb-movies.csv\n",
      "               5 File(s)      9,129,761 bytes\n",
      "               3 Dir(s)  126,233,542,656 bytes free\n"
     ]
    }
   ],
   "source": [
    "!dir"
   ]
  },
  {
   "cell_type": "code",
   "execution_count": 4,
   "metadata": {},
   "outputs": [],
   "source": [
    "#loading in the dataset\n",
    "movie = pd.read_csv('tmdb-movies.csv')"
   ]
  },
  {
   "cell_type": "code",
   "execution_count": 5,
   "metadata": {},
   "outputs": [
    {
     "data": {
      "text/plain": [
       "(10866, 21)"
      ]
     },
     "execution_count": 5,
     "metadata": {},
     "output_type": "execute_result"
    }
   ],
   "source": [
    "movie.shape"
   ]
  },
  {
   "cell_type": "code",
   "execution_count": 6,
   "metadata": {},
   "outputs": [
    {
     "data": {
      "text/plain": [
       "Index(['id', 'imdb_id', 'popularity', 'budget', 'revenue', 'original_title',\n",
       "       'cast', 'homepage', 'director', 'tagline', 'keywords', 'overview',\n",
       "       'runtime', 'genres', 'production_companies', 'release_date',\n",
       "       'vote_count', 'vote_average', 'release_year', 'budget_adj',\n",
       "       'revenue_adj'],\n",
       "      dtype='object')"
      ]
     },
     "execution_count": 6,
     "metadata": {},
     "output_type": "execute_result"
    }
   ],
   "source": [
    "movie.columns"
   ]
  },
  {
   "cell_type": "code",
   "execution_count": 7,
   "metadata": {},
   "outputs": [
    {
     "data": {
      "text/html": [
       "<div>\n",
       "<style scoped>\n",
       "    .dataframe tbody tr th:only-of-type {\n",
       "        vertical-align: middle;\n",
       "    }\n",
       "\n",
       "    .dataframe tbody tr th {\n",
       "        vertical-align: top;\n",
       "    }\n",
       "\n",
       "    .dataframe thead th {\n",
       "        text-align: right;\n",
       "    }\n",
       "</style>\n",
       "<table border=\"1\" class=\"dataframe\">\n",
       "  <thead>\n",
       "    <tr style=\"text-align: right;\">\n",
       "      <th></th>\n",
       "      <th>id</th>\n",
       "      <th>imdb_id</th>\n",
       "      <th>popularity</th>\n",
       "      <th>budget</th>\n",
       "      <th>revenue</th>\n",
       "      <th>original_title</th>\n",
       "      <th>cast</th>\n",
       "      <th>homepage</th>\n",
       "      <th>director</th>\n",
       "      <th>tagline</th>\n",
       "      <th>...</th>\n",
       "      <th>overview</th>\n",
       "      <th>runtime</th>\n",
       "      <th>genres</th>\n",
       "      <th>production_companies</th>\n",
       "      <th>release_date</th>\n",
       "      <th>vote_count</th>\n",
       "      <th>vote_average</th>\n",
       "      <th>release_year</th>\n",
       "      <th>budget_adj</th>\n",
       "      <th>revenue_adj</th>\n",
       "    </tr>\n",
       "  </thead>\n",
       "  <tbody>\n",
       "    <tr>\n",
       "      <th>0</th>\n",
       "      <td>135397</td>\n",
       "      <td>tt0369610</td>\n",
       "      <td>32.985763</td>\n",
       "      <td>150000000</td>\n",
       "      <td>1513528810</td>\n",
       "      <td>Jurassic World</td>\n",
       "      <td>Chris Pratt|Bryce Dallas Howard|Irrfan Khan|Vi...</td>\n",
       "      <td>http://www.jurassicworld.com/</td>\n",
       "      <td>Colin Trevorrow</td>\n",
       "      <td>The park is open.</td>\n",
       "      <td>...</td>\n",
       "      <td>Twenty-two years after the events of Jurassic ...</td>\n",
       "      <td>124</td>\n",
       "      <td>Action|Adventure|Science Fiction|Thriller</td>\n",
       "      <td>Universal Studios|Amblin Entertainment|Legenda...</td>\n",
       "      <td>6/9/15</td>\n",
       "      <td>5562</td>\n",
       "      <td>6.5</td>\n",
       "      <td>2015</td>\n",
       "      <td>1.379999e+08</td>\n",
       "      <td>1.392446e+09</td>\n",
       "    </tr>\n",
       "  </tbody>\n",
       "</table>\n",
       "<p>1 rows × 21 columns</p>\n",
       "</div>"
      ],
      "text/plain": [
       "       id    imdb_id  popularity     budget     revenue  original_title  \\\n",
       "0  135397  tt0369610   32.985763  150000000  1513528810  Jurassic World   \n",
       "\n",
       "                                                cast  \\\n",
       "0  Chris Pratt|Bryce Dallas Howard|Irrfan Khan|Vi...   \n",
       "\n",
       "                        homepage         director            tagline  ...  \\\n",
       "0  http://www.jurassicworld.com/  Colin Trevorrow  The park is open.  ...   \n",
       "\n",
       "                                            overview runtime  \\\n",
       "0  Twenty-two years after the events of Jurassic ...     124   \n",
       "\n",
       "                                      genres  \\\n",
       "0  Action|Adventure|Science Fiction|Thriller   \n",
       "\n",
       "                                production_companies release_date vote_count  \\\n",
       "0  Universal Studios|Amblin Entertainment|Legenda...       6/9/15       5562   \n",
       "\n",
       "   vote_average  release_year    budget_adj   revenue_adj  \n",
       "0           6.5          2015  1.379999e+08  1.392446e+09  \n",
       "\n",
       "[1 rows x 21 columns]"
      ]
     },
     "execution_count": 7,
     "metadata": {},
     "output_type": "execute_result"
    }
   ],
   "source": [
    "movie.head(1)"
   ]
  },
  {
   "cell_type": "markdown",
   "metadata": {},
   "source": [
    "> as shown above; there are 2 types of budget and revenue columns; we will keep the ones with '_adj' suffix as these columns have been adjusted to account for inflation."
   ]
  },
  {
   "cell_type": "code",
   "execution_count": 8,
   "metadata": {},
   "outputs": [],
   "source": [
    "#dropping un-necessasary columns that offer no usable information in terms of numerical data analysis\n",
    "movie.drop(columns=['id','imdb_id', 'homepage', 'overview',\n",
    "                    'keywords', 'budget', 'revenue', 'tagline'],inplace=True)\n"
   ]
  },
  {
   "cell_type": "code",
   "execution_count": 9,
   "metadata": {},
   "outputs": [
    {
     "data": {
      "text/html": [
       "<div>\n",
       "<style scoped>\n",
       "    .dataframe tbody tr th:only-of-type {\n",
       "        vertical-align: middle;\n",
       "    }\n",
       "\n",
       "    .dataframe tbody tr th {\n",
       "        vertical-align: top;\n",
       "    }\n",
       "\n",
       "    .dataframe thead th {\n",
       "        text-align: right;\n",
       "    }\n",
       "</style>\n",
       "<table border=\"1\" class=\"dataframe\">\n",
       "  <thead>\n",
       "    <tr style=\"text-align: right;\">\n",
       "      <th></th>\n",
       "      <th>popularity</th>\n",
       "      <th>original_title</th>\n",
       "      <th>cast</th>\n",
       "      <th>director</th>\n",
       "      <th>runtime</th>\n",
       "      <th>genres</th>\n",
       "      <th>production_companies</th>\n",
       "      <th>release_date</th>\n",
       "      <th>vote_count</th>\n",
       "      <th>vote_average</th>\n",
       "      <th>release_year</th>\n",
       "      <th>budget_adj</th>\n",
       "      <th>revenue_adj</th>\n",
       "    </tr>\n",
       "  </thead>\n",
       "  <tbody>\n",
       "    <tr>\n",
       "      <th>0</th>\n",
       "      <td>32.985763</td>\n",
       "      <td>Jurassic World</td>\n",
       "      <td>Chris Pratt|Bryce Dallas Howard|Irrfan Khan|Vi...</td>\n",
       "      <td>Colin Trevorrow</td>\n",
       "      <td>124</td>\n",
       "      <td>Action|Adventure|Science Fiction|Thriller</td>\n",
       "      <td>Universal Studios|Amblin Entertainment|Legenda...</td>\n",
       "      <td>6/9/15</td>\n",
       "      <td>5562</td>\n",
       "      <td>6.5</td>\n",
       "      <td>2015</td>\n",
       "      <td>1.379999e+08</td>\n",
       "      <td>1.392446e+09</td>\n",
       "    </tr>\n",
       "  </tbody>\n",
       "</table>\n",
       "</div>"
      ],
      "text/plain": [
       "   popularity  original_title  \\\n",
       "0   32.985763  Jurassic World   \n",
       "\n",
       "                                                cast         director  \\\n",
       "0  Chris Pratt|Bryce Dallas Howard|Irrfan Khan|Vi...  Colin Trevorrow   \n",
       "\n",
       "   runtime                                     genres  \\\n",
       "0      124  Action|Adventure|Science Fiction|Thriller   \n",
       "\n",
       "                                production_companies release_date  vote_count  \\\n",
       "0  Universal Studios|Amblin Entertainment|Legenda...       6/9/15        5562   \n",
       "\n",
       "   vote_average  release_year    budget_adj   revenue_adj  \n",
       "0           6.5          2015  1.379999e+08  1.392446e+09  "
      ]
     },
     "execution_count": 9,
     "metadata": {},
     "output_type": "execute_result"
    }
   ],
   "source": [
    "movie.head(1)"
   ]
  },
  {
   "cell_type": "markdown",
   "metadata": {},
   "source": [
    "#### have noticed weird characters '|' in a few columns; a further investigation follows"
   ]
  },
  {
   "cell_type": "code",
   "execution_count": 10,
   "metadata": {
    "scrolled": true
   },
   "outputs": [
    {
     "data": {
      "text/plain": [
       "Comedy                                      712\n",
       "Drama                                       712\n",
       "Documentary                                 312\n",
       "Drama|Romance                               289\n",
       "Comedy|Drama                                280\n",
       "                                           ... \n",
       "TV Movie|Action|Adventure|Documentary         1\n",
       "Animation|Fantasy|Comedy|Science Fiction      1\n",
       "Animation|Drama|Family|Fantasy                1\n",
       "War|Drama|History|Action|Romance              1\n",
       "Animation|Horror|Action                       1\n",
       "Name: genres, Length: 2039, dtype: int64"
      ]
     },
     "execution_count": 10,
     "metadata": {},
     "output_type": "execute_result"
    }
   ],
   "source": [
    "movie['genres'].value_counts()"
   ]
  },
  {
   "cell_type": "code",
   "execution_count": 11,
   "metadata": {},
   "outputs": [
    {
     "data": {
      "text/plain": [
       "Paramount Pictures                                                                 156\n",
       "Universal Pictures                                                                 133\n",
       "Warner Bros.                                                                        84\n",
       "Walt Disney Pictures                                                                76\n",
       "Metro-Goldwyn-Mayer (MGM)                                                           72\n",
       "                                                                                  ... \n",
       "Stan Winston Productions|Odyssey Entertainment|Isle of Man Film Commission|SWFX      1\n",
       "Le Bureau|Jaibol Films                                                               1\n",
       "Blood Relations Co.                                                                  1\n",
       "20th Century Fox Film Corporation                                                    1\n",
       "Universal Pictures|Atlas Entertainment|Classico                                      1\n",
       "Name: production_companies, Length: 7445, dtype: int64"
      ]
     },
     "execution_count": 11,
     "metadata": {},
     "output_type": "execute_result"
    }
   ],
   "source": [
    "movie['production_companies'].value_counts()"
   ]
  },
  {
   "cell_type": "code",
   "execution_count": 12,
   "metadata": {},
   "outputs": [
    {
     "data": {
      "text/plain": [
       "Louis C.K.                                                                                   6\n",
       "William Shatner|Leonard Nimoy|DeForest Kelley|James Doohan|George Takei                      5\n",
       "Bill Burr                                                                                    4\n",
       "Jennifer Lawrence|Josh Hutcherson|Liam Hemsworth|Woody Harrelson|Elizabeth Banks             3\n",
       "Chris Wedge                                                                                  3\n",
       "                                                                                            ..\n",
       "Stephen Rea|Lotte Verbeek|Tom Charlfa|Ann Marie Horan                                        1\n",
       "Angelina Jolie|Antonio Banderas|Gregory Itzin|Jack Thompson|Allison Mackie                   1\n",
       "Dudley Moore|Liza Minnelli|John Gielgud|Geraldine Fitzgerald|Stephen Elliott                 1\n",
       "Veronica Olivier|Beatrice Flammini|Flavia Roberto|Raniero Monaco Di Lapio|Giuseppe Maggio    1\n",
       "Keira Knightley|ChloÃ« Grace Moretz|Sam Rockwell|Kaitlyn Dever|Ellie Kemper                  1\n",
       "Name: cast, Length: 10719, dtype: int64"
      ]
     },
     "execution_count": 12,
     "metadata": {},
     "output_type": "execute_result"
    }
   ],
   "source": [
    "movie['cast'].value_counts()"
   ]
  },
  {
   "cell_type": "markdown",
   "metadata": {},
   "source": [
    "### to better analyze the data, only the lead actor/actress , production company and main genre will be slected otherwise these columns would be useless to analyze since they contain multiple names in bulk"
   ]
  },
  {
   "cell_type": "code",
   "execution_count": 13,
   "metadata": {},
   "outputs": [],
   "source": [
    "#casting columns 'cast' and 'production_companies' to type 'str' as to be able to iterate \n",
    "#over their values when transformed into a list caused by the .strip() function\n",
    "\n",
    "movie['cast'] = movie['cast'].astype('str')\n",
    "movie['production_companies'] = movie['production_companies'].astype('str')\n",
    "movie['genres'] = movie['genres'].astype('str')\n",
    "\n",
    "#turning each value in these columns into lists and then selecting the first element in every list\n",
    "\n",
    "movie['cast'] = [i[0] for i in  movie['cast'].str.split('|')]\n",
    "movie['production_companies'] = [i[0] for i in  movie['production_companies'].str.split('|')]\n",
    "movie['genres'] = [i[0] for i in  movie['genres'].str.split('|')]"
   ]
  },
  {
   "cell_type": "markdown",
   "metadata": {},
   "source": [
    "### Decided to rename newly adjusted columns to better reflect their new information\n",
    ">decided on lead_talent instead of lead_actor so not to be sexist :)"
   ]
  },
  {
   "cell_type": "code",
   "execution_count": 14,
   "metadata": {},
   "outputs": [],
   "source": [
    "#renaming columns\n",
    "\n",
    "movie.rename(columns = {'cast':'lead_talent'}, inplace=True)\n",
    "movie.rename(columns = {'production_companies':'lead_production_company'}, inplace=True)\n",
    "movie.rename(columns = {'genres':'main_genre'}, inplace=True)\n"
   ]
  },
  {
   "cell_type": "code",
   "execution_count": 15,
   "metadata": {
    "scrolled": true
   },
   "outputs": [
    {
     "data": {
      "text/html": [
       "<div>\n",
       "<style scoped>\n",
       "    .dataframe tbody tr th:only-of-type {\n",
       "        vertical-align: middle;\n",
       "    }\n",
       "\n",
       "    .dataframe tbody tr th {\n",
       "        vertical-align: top;\n",
       "    }\n",
       "\n",
       "    .dataframe thead th {\n",
       "        text-align: right;\n",
       "    }\n",
       "</style>\n",
       "<table border=\"1\" class=\"dataframe\">\n",
       "  <thead>\n",
       "    <tr style=\"text-align: right;\">\n",
       "      <th></th>\n",
       "      <th>popularity</th>\n",
       "      <th>original_title</th>\n",
       "      <th>lead_talent</th>\n",
       "      <th>director</th>\n",
       "      <th>runtime</th>\n",
       "      <th>main_genre</th>\n",
       "      <th>lead_production_company</th>\n",
       "      <th>release_date</th>\n",
       "      <th>vote_count</th>\n",
       "      <th>vote_average</th>\n",
       "      <th>release_year</th>\n",
       "      <th>budget_adj</th>\n",
       "      <th>revenue_adj</th>\n",
       "    </tr>\n",
       "  </thead>\n",
       "  <tbody>\n",
       "    <tr>\n",
       "      <th>0</th>\n",
       "      <td>32.985763</td>\n",
       "      <td>Jurassic World</td>\n",
       "      <td>Chris Pratt</td>\n",
       "      <td>Colin Trevorrow</td>\n",
       "      <td>124</td>\n",
       "      <td>Action</td>\n",
       "      <td>Universal Studios</td>\n",
       "      <td>6/9/15</td>\n",
       "      <td>5562</td>\n",
       "      <td>6.5</td>\n",
       "      <td>2015</td>\n",
       "      <td>1.379999e+08</td>\n",
       "      <td>1.392446e+09</td>\n",
       "    </tr>\n",
       "    <tr>\n",
       "      <th>1</th>\n",
       "      <td>28.419936</td>\n",
       "      <td>Mad Max: Fury Road</td>\n",
       "      <td>Tom Hardy</td>\n",
       "      <td>George Miller</td>\n",
       "      <td>120</td>\n",
       "      <td>Action</td>\n",
       "      <td>Village Roadshow Pictures</td>\n",
       "      <td>5/13/15</td>\n",
       "      <td>6185</td>\n",
       "      <td>7.1</td>\n",
       "      <td>2015</td>\n",
       "      <td>1.379999e+08</td>\n",
       "      <td>3.481613e+08</td>\n",
       "    </tr>\n",
       "  </tbody>\n",
       "</table>\n",
       "</div>"
      ],
      "text/plain": [
       "   popularity      original_title  lead_talent         director  runtime  \\\n",
       "0   32.985763      Jurassic World  Chris Pratt  Colin Trevorrow      124   \n",
       "1   28.419936  Mad Max: Fury Road    Tom Hardy    George Miller      120   \n",
       "\n",
       "  main_genre    lead_production_company release_date  vote_count  \\\n",
       "0     Action          Universal Studios       6/9/15        5562   \n",
       "1     Action  Village Roadshow Pictures      5/13/15        6185   \n",
       "\n",
       "   vote_average  release_year    budget_adj   revenue_adj  \n",
       "0           6.5          2015  1.379999e+08  1.392446e+09  \n",
       "1           7.1          2015  1.379999e+08  3.481613e+08  "
      ]
     },
     "execution_count": 15,
     "metadata": {},
     "output_type": "execute_result"
    }
   ],
   "source": [
    "movie.head(2)"
   ]
  },
  {
   "cell_type": "markdown",
   "metadata": {},
   "source": [
    "## Feature engineering date column\n",
    "#### extracting month as the full date is useless since we already have a year column in the dataset\n",
    "#### and then converting months into seasons as movies are usually season based"
   ]
  },
  {
   "cell_type": "code",
   "execution_count": 16,
   "metadata": {},
   "outputs": [
    {
     "data": {
      "text/plain": [
       "1/1/09      28\n",
       "1/1/08      21\n",
       "1/1/07      18\n",
       "1/1/05      16\n",
       "10/10/14    15\n",
       "            ..\n",
       "6/21/88      1\n",
       "10/21/87     1\n",
       "6/21/77      1\n",
       "2/24/04      1\n",
       "6/27/05      1\n",
       "Name: release_date, Length: 5909, dtype: int64"
      ]
     },
     "execution_count": 16,
     "metadata": {},
     "output_type": "execute_result"
    }
   ],
   "source": [
    "movie['release_date'].value_counts()"
   ]
  },
  {
   "cell_type": "code",
   "execution_count": 17,
   "metadata": {},
   "outputs": [
    {
     "data": {
      "text/plain": [
       "9     1331\n",
       "10    1153\n",
       "12     985\n",
       "1      919\n",
       "8      918\n",
       "6      827\n",
       "3      823\n",
       "11     814\n",
       "5      809\n",
       "7      799\n",
       "4      797\n",
       "2      691\n",
       "Name: release_month, dtype: int64"
      ]
     },
     "execution_count": 17,
     "metadata": {},
     "output_type": "execute_result"
    }
   ],
   "source": [
    "#extracting month from date column and creating a new column ''release_month'\n",
    "movie['release_month'] = [i[0] for i in movie['release_date'].str.split('/')]\n",
    "movie['release_month'].value_counts()"
   ]
  },
  {
   "cell_type": "code",
   "execution_count": 18,
   "metadata": {},
   "outputs": [],
   "source": [
    "#dropping the now useless 'release_date' column\n",
    "movie.drop(columns='release_date', inplace = True)"
   ]
  },
  {
   "cell_type": "code",
   "execution_count": 19,
   "metadata": {},
   "outputs": [],
   "source": [
    "#creating a dictionary to map months with their corresponding season\n",
    "\n",
    "seasons = {'Spring': [3,4,5],\n",
    "            'Summer': [6,7,8],\n",
    "            'Fall': [9,10,11],\n",
    "            'Winter': [12,1,2]\n",
    "            }\n",
    "\n",
    "#creating function to check for a month value and assign it its appropiate season\n",
    "\n",
    "def classify_season(value):\n",
    "    try:\n",
    "        for key, values in seasons.items():\n",
    "            if value in values:\n",
    "                return key\n",
    "    # In case value is NaN\n",
    "    except ValueError:\n",
    "        return np.nan"
   ]
  },
  {
   "cell_type": "code",
   "execution_count": 20,
   "metadata": {},
   "outputs": [],
   "source": [
    "#creating new column 'season'\n",
    "movie['release_month'] = movie['release_month'].astype('int64')\n",
    "movie['season'] = movie['release_month'].apply(classify_season)"
   ]
  },
  {
   "cell_type": "code",
   "execution_count": 21,
   "metadata": {},
   "outputs": [],
   "source": [
    "#drop the now useless 'release_moth' column\n",
    "movie.drop(columns='release_month', inplace = True)"
   ]
  },
  {
   "cell_type": "markdown",
   "metadata": {},
   "source": [
    "### Taking it one step further and assigning years to their corresponding era"
   ]
  },
  {
   "cell_type": "code",
   "execution_count": 22,
   "metadata": {},
   "outputs": [],
   "source": [
    "#creating dictionary to map years with their corresponding era\n",
    "era = { '60s': np.arange(1960,1970).tolist(),\n",
    "       '70s': np.arange(1970,1980).tolist(),\n",
    "       '80s': np.arange(1980,1990).tolist(),\n",
    "       '90s': np.arange(1990,2000).tolist(),\n",
    "       '00s': np.arange(2000,2010).tolist(),\n",
    "       '10s': np.arange(2010,2016).tolist()\n",
    "      }\n",
    "\n",
    "#creating function to check for year value and assign appropiate era\n",
    "\n",
    "def classify_era(value):\n",
    "    try:\n",
    "        for key, values in era.items():\n",
    "            if value in values:\n",
    "                return key\n",
    "    # In case value is NaN\n",
    "    except ValueError:\n",
    "        return np.nan"
   ]
  },
  {
   "cell_type": "code",
   "execution_count": 23,
   "metadata": {},
   "outputs": [],
   "source": [
    "movie['era'] = movie['release_year'].apply(classify_era)"
   ]
  },
  {
   "cell_type": "code",
   "execution_count": 24,
   "metadata": {},
   "outputs": [
    {
     "data": {
      "text/html": [
       "<div>\n",
       "<style scoped>\n",
       "    .dataframe tbody tr th:only-of-type {\n",
       "        vertical-align: middle;\n",
       "    }\n",
       "\n",
       "    .dataframe tbody tr th {\n",
       "        vertical-align: top;\n",
       "    }\n",
       "\n",
       "    .dataframe thead th {\n",
       "        text-align: right;\n",
       "    }\n",
       "</style>\n",
       "<table border=\"1\" class=\"dataframe\">\n",
       "  <thead>\n",
       "    <tr style=\"text-align: right;\">\n",
       "      <th></th>\n",
       "      <th>popularity</th>\n",
       "      <th>original_title</th>\n",
       "      <th>lead_talent</th>\n",
       "      <th>director</th>\n",
       "      <th>runtime</th>\n",
       "      <th>main_genre</th>\n",
       "      <th>lead_production_company</th>\n",
       "      <th>vote_count</th>\n",
       "      <th>vote_average</th>\n",
       "      <th>release_year</th>\n",
       "      <th>budget_adj</th>\n",
       "      <th>revenue_adj</th>\n",
       "      <th>season</th>\n",
       "      <th>era</th>\n",
       "    </tr>\n",
       "  </thead>\n",
       "  <tbody>\n",
       "    <tr>\n",
       "      <th>0</th>\n",
       "      <td>32.985763</td>\n",
       "      <td>Jurassic World</td>\n",
       "      <td>Chris Pratt</td>\n",
       "      <td>Colin Trevorrow</td>\n",
       "      <td>124</td>\n",
       "      <td>Action</td>\n",
       "      <td>Universal Studios</td>\n",
       "      <td>5562</td>\n",
       "      <td>6.5</td>\n",
       "      <td>2015</td>\n",
       "      <td>1.379999e+08</td>\n",
       "      <td>1.392446e+09</td>\n",
       "      <td>Summer</td>\n",
       "      <td>10s</td>\n",
       "    </tr>\n",
       "    <tr>\n",
       "      <th>1</th>\n",
       "      <td>28.419936</td>\n",
       "      <td>Mad Max: Fury Road</td>\n",
       "      <td>Tom Hardy</td>\n",
       "      <td>George Miller</td>\n",
       "      <td>120</td>\n",
       "      <td>Action</td>\n",
       "      <td>Village Roadshow Pictures</td>\n",
       "      <td>6185</td>\n",
       "      <td>7.1</td>\n",
       "      <td>2015</td>\n",
       "      <td>1.379999e+08</td>\n",
       "      <td>3.481613e+08</td>\n",
       "      <td>Spring</td>\n",
       "      <td>10s</td>\n",
       "    </tr>\n",
       "    <tr>\n",
       "      <th>2</th>\n",
       "      <td>13.112507</td>\n",
       "      <td>Insurgent</td>\n",
       "      <td>Shailene Woodley</td>\n",
       "      <td>Robert Schwentke</td>\n",
       "      <td>119</td>\n",
       "      <td>Adventure</td>\n",
       "      <td>Summit Entertainment</td>\n",
       "      <td>2480</td>\n",
       "      <td>6.3</td>\n",
       "      <td>2015</td>\n",
       "      <td>1.012000e+08</td>\n",
       "      <td>2.716190e+08</td>\n",
       "      <td>Spring</td>\n",
       "      <td>10s</td>\n",
       "    </tr>\n",
       "  </tbody>\n",
       "</table>\n",
       "</div>"
      ],
      "text/plain": [
       "   popularity      original_title       lead_talent          director  \\\n",
       "0   32.985763      Jurassic World       Chris Pratt   Colin Trevorrow   \n",
       "1   28.419936  Mad Max: Fury Road         Tom Hardy     George Miller   \n",
       "2   13.112507           Insurgent  Shailene Woodley  Robert Schwentke   \n",
       "\n",
       "   runtime main_genre    lead_production_company  vote_count  vote_average  \\\n",
       "0      124     Action          Universal Studios        5562           6.5   \n",
       "1      120     Action  Village Roadshow Pictures        6185           7.1   \n",
       "2      119  Adventure       Summit Entertainment        2480           6.3   \n",
       "\n",
       "   release_year    budget_adj   revenue_adj  season  era  \n",
       "0          2015  1.379999e+08  1.392446e+09  Summer  10s  \n",
       "1          2015  1.379999e+08  3.481613e+08  Spring  10s  \n",
       "2          2015  1.012000e+08  2.716190e+08  Spring  10s  "
      ]
     },
     "execution_count": 24,
     "metadata": {},
     "output_type": "execute_result"
    }
   ],
   "source": [
    "movie.head(3)"
   ]
  },
  {
   "cell_type": "code",
   "execution_count": 25,
   "metadata": {},
   "outputs": [
    {
     "data": {
      "text/plain": [
       "popularity                 float64\n",
       "original_title              object\n",
       "lead_talent                 object\n",
       "director                    object\n",
       "runtime                      int64\n",
       "main_genre                  object\n",
       "lead_production_company     object\n",
       "vote_count                   int64\n",
       "vote_average               float64\n",
       "release_year                 int64\n",
       "budget_adj                 float64\n",
       "revenue_adj                float64\n",
       "season                      object\n",
       "era                         object\n",
       "dtype: object"
      ]
     },
     "execution_count": 25,
     "metadata": {},
     "output_type": "execute_result"
    }
   ],
   "source": [
    "#checking data types for columns\n",
    "movie.dtypes"
   ]
  },
  {
   "cell_type": "code",
   "execution_count": 26,
   "metadata": {},
   "outputs": [],
   "source": [
    "#converting adjusted budget and revenue columns into int for better readibility\n",
    "movie['budget_adj'] = movie['budget_adj'].astype('int64')\n",
    "movie['revenue_adj'] = movie['revenue_adj'].astype('int64')"
   ]
  },
  {
   "cell_type": "code",
   "execution_count": 27,
   "metadata": {},
   "outputs": [
    {
     "data": {
      "text/html": [
       "<div>\n",
       "<style scoped>\n",
       "    .dataframe tbody tr th:only-of-type {\n",
       "        vertical-align: middle;\n",
       "    }\n",
       "\n",
       "    .dataframe tbody tr th {\n",
       "        vertical-align: top;\n",
       "    }\n",
       "\n",
       "    .dataframe thead th {\n",
       "        text-align: right;\n",
       "    }\n",
       "</style>\n",
       "<table border=\"1\" class=\"dataframe\">\n",
       "  <thead>\n",
       "    <tr style=\"text-align: right;\">\n",
       "      <th></th>\n",
       "      <th>popularity</th>\n",
       "      <th>original_title</th>\n",
       "      <th>lead_talent</th>\n",
       "      <th>director</th>\n",
       "      <th>runtime</th>\n",
       "      <th>main_genre</th>\n",
       "      <th>lead_production_company</th>\n",
       "      <th>vote_count</th>\n",
       "      <th>vote_average</th>\n",
       "      <th>release_year</th>\n",
       "      <th>budget_adj</th>\n",
       "      <th>revenue_adj</th>\n",
       "      <th>season</th>\n",
       "      <th>era</th>\n",
       "    </tr>\n",
       "  </thead>\n",
       "  <tbody>\n",
       "    <tr>\n",
       "      <th>0</th>\n",
       "      <td>32.985763</td>\n",
       "      <td>Jurassic World</td>\n",
       "      <td>Chris Pratt</td>\n",
       "      <td>Colin Trevorrow</td>\n",
       "      <td>124</td>\n",
       "      <td>Action</td>\n",
       "      <td>Universal Studios</td>\n",
       "      <td>5562</td>\n",
       "      <td>6.5</td>\n",
       "      <td>2015</td>\n",
       "      <td>137999939</td>\n",
       "      <td>1392445892</td>\n",
       "      <td>Summer</td>\n",
       "      <td>10s</td>\n",
       "    </tr>\n",
       "    <tr>\n",
       "      <th>1</th>\n",
       "      <td>28.419936</td>\n",
       "      <td>Mad Max: Fury Road</td>\n",
       "      <td>Tom Hardy</td>\n",
       "      <td>George Miller</td>\n",
       "      <td>120</td>\n",
       "      <td>Action</td>\n",
       "      <td>Village Roadshow Pictures</td>\n",
       "      <td>6185</td>\n",
       "      <td>7.1</td>\n",
       "      <td>2015</td>\n",
       "      <td>137999939</td>\n",
       "      <td>348161292</td>\n",
       "      <td>Spring</td>\n",
       "      <td>10s</td>\n",
       "    </tr>\n",
       "    <tr>\n",
       "      <th>2</th>\n",
       "      <td>13.112507</td>\n",
       "      <td>Insurgent</td>\n",
       "      <td>Shailene Woodley</td>\n",
       "      <td>Robert Schwentke</td>\n",
       "      <td>119</td>\n",
       "      <td>Adventure</td>\n",
       "      <td>Summit Entertainment</td>\n",
       "      <td>2480</td>\n",
       "      <td>6.3</td>\n",
       "      <td>2015</td>\n",
       "      <td>101199955</td>\n",
       "      <td>271619025</td>\n",
       "      <td>Spring</td>\n",
       "      <td>10s</td>\n",
       "    </tr>\n",
       "    <tr>\n",
       "      <th>3</th>\n",
       "      <td>11.173104</td>\n",
       "      <td>Star Wars: The Force Awakens</td>\n",
       "      <td>Harrison Ford</td>\n",
       "      <td>J.J. Abrams</td>\n",
       "      <td>136</td>\n",
       "      <td>Action</td>\n",
       "      <td>Lucasfilm</td>\n",
       "      <td>5292</td>\n",
       "      <td>7.5</td>\n",
       "      <td>2015</td>\n",
       "      <td>183999919</td>\n",
       "      <td>1902723129</td>\n",
       "      <td>Winter</td>\n",
       "      <td>10s</td>\n",
       "    </tr>\n",
       "    <tr>\n",
       "      <th>4</th>\n",
       "      <td>9.335014</td>\n",
       "      <td>Furious 7</td>\n",
       "      <td>Vin Diesel</td>\n",
       "      <td>James Wan</td>\n",
       "      <td>137</td>\n",
       "      <td>Action</td>\n",
       "      <td>Universal Pictures</td>\n",
       "      <td>2947</td>\n",
       "      <td>7.3</td>\n",
       "      <td>2015</td>\n",
       "      <td>174799923</td>\n",
       "      <td>1385748801</td>\n",
       "      <td>Spring</td>\n",
       "      <td>10s</td>\n",
       "    </tr>\n",
       "  </tbody>\n",
       "</table>\n",
       "</div>"
      ],
      "text/plain": [
       "   popularity                original_title       lead_talent  \\\n",
       "0   32.985763                Jurassic World       Chris Pratt   \n",
       "1   28.419936            Mad Max: Fury Road         Tom Hardy   \n",
       "2   13.112507                     Insurgent  Shailene Woodley   \n",
       "3   11.173104  Star Wars: The Force Awakens     Harrison Ford   \n",
       "4    9.335014                     Furious 7        Vin Diesel   \n",
       "\n",
       "           director  runtime main_genre    lead_production_company  \\\n",
       "0   Colin Trevorrow      124     Action          Universal Studios   \n",
       "1     George Miller      120     Action  Village Roadshow Pictures   \n",
       "2  Robert Schwentke      119  Adventure       Summit Entertainment   \n",
       "3       J.J. Abrams      136     Action                  Lucasfilm   \n",
       "4         James Wan      137     Action         Universal Pictures   \n",
       "\n",
       "   vote_count  vote_average  release_year  budget_adj  revenue_adj  season  \\\n",
       "0        5562           6.5          2015   137999939   1392445892  Summer   \n",
       "1        6185           7.1          2015   137999939    348161292  Spring   \n",
       "2        2480           6.3          2015   101199955    271619025  Spring   \n",
       "3        5292           7.5          2015   183999919   1902723129  Winter   \n",
       "4        2947           7.3          2015   174799923   1385748801  Spring   \n",
       "\n",
       "   era  \n",
       "0  10s  \n",
       "1  10s  \n",
       "2  10s  \n",
       "3  10s  \n",
       "4  10s  "
      ]
     },
     "execution_count": 27,
     "metadata": {},
     "output_type": "execute_result"
    }
   ],
   "source": [
    "movie.head()"
   ]
  },
  {
   "cell_type": "code",
   "execution_count": 28,
   "metadata": {},
   "outputs": [
    {
     "data": {
      "text/plain": [
       "Index(['original_title', 'main_genre', 'lead_talent', 'director',\n",
       "       'lead_production_company', 'season', 'release_year', 'era', 'runtime',\n",
       "       'popularity', 'vote_count', 'vote_average', 'budget_adj',\n",
       "       'revenue_adj'],\n",
       "      dtype='object')"
      ]
     },
     "execution_count": 28,
     "metadata": {},
     "output_type": "execute_result"
    }
   ],
   "source": [
    "#re ordering columns purely to satisfy my OCD  :) \n",
    "cols = ['original_title','main_genre', 'lead_talent', 'director','lead_production_company',\n",
    "        'season','release_year','era', 'runtime', 'popularity',\n",
    "         'vote_count', 'vote_average', \n",
    "        'budget_adj', 'revenue_adj']\n",
    "\n",
    "movie = movie[cols]\n",
    "movie.columns"
   ]
  },
  {
   "cell_type": "code",
   "execution_count": 29,
   "metadata": {},
   "outputs": [
    {
     "data": {
      "text/html": [
       "<div>\n",
       "<style scoped>\n",
       "    .dataframe tbody tr th:only-of-type {\n",
       "        vertical-align: middle;\n",
       "    }\n",
       "\n",
       "    .dataframe tbody tr th {\n",
       "        vertical-align: top;\n",
       "    }\n",
       "\n",
       "    .dataframe thead th {\n",
       "        text-align: right;\n",
       "    }\n",
       "</style>\n",
       "<table border=\"1\" class=\"dataframe\">\n",
       "  <thead>\n",
       "    <tr style=\"text-align: right;\">\n",
       "      <th></th>\n",
       "      <th>original_title</th>\n",
       "      <th>main_genre</th>\n",
       "      <th>lead_talent</th>\n",
       "      <th>director</th>\n",
       "      <th>lead_production_company</th>\n",
       "      <th>season</th>\n",
       "      <th>release_year</th>\n",
       "      <th>era</th>\n",
       "      <th>runtime</th>\n",
       "      <th>popularity</th>\n",
       "      <th>vote_count</th>\n",
       "      <th>vote_average</th>\n",
       "      <th>budget_adj</th>\n",
       "      <th>revenue_adj</th>\n",
       "    </tr>\n",
       "  </thead>\n",
       "  <tbody>\n",
       "    <tr>\n",
       "      <th>0</th>\n",
       "      <td>Jurassic World</td>\n",
       "      <td>Action</td>\n",
       "      <td>Chris Pratt</td>\n",
       "      <td>Colin Trevorrow</td>\n",
       "      <td>Universal Studios</td>\n",
       "      <td>Summer</td>\n",
       "      <td>2015</td>\n",
       "      <td>10s</td>\n",
       "      <td>124</td>\n",
       "      <td>32.985763</td>\n",
       "      <td>5562</td>\n",
       "      <td>6.5</td>\n",
       "      <td>137999939</td>\n",
       "      <td>1392445892</td>\n",
       "    </tr>\n",
       "    <tr>\n",
       "      <th>1</th>\n",
       "      <td>Mad Max: Fury Road</td>\n",
       "      <td>Action</td>\n",
       "      <td>Tom Hardy</td>\n",
       "      <td>George Miller</td>\n",
       "      <td>Village Roadshow Pictures</td>\n",
       "      <td>Spring</td>\n",
       "      <td>2015</td>\n",
       "      <td>10s</td>\n",
       "      <td>120</td>\n",
       "      <td>28.419936</td>\n",
       "      <td>6185</td>\n",
       "      <td>7.1</td>\n",
       "      <td>137999939</td>\n",
       "      <td>348161292</td>\n",
       "    </tr>\n",
       "    <tr>\n",
       "      <th>2</th>\n",
       "      <td>Insurgent</td>\n",
       "      <td>Adventure</td>\n",
       "      <td>Shailene Woodley</td>\n",
       "      <td>Robert Schwentke</td>\n",
       "      <td>Summit Entertainment</td>\n",
       "      <td>Spring</td>\n",
       "      <td>2015</td>\n",
       "      <td>10s</td>\n",
       "      <td>119</td>\n",
       "      <td>13.112507</td>\n",
       "      <td>2480</td>\n",
       "      <td>6.3</td>\n",
       "      <td>101199955</td>\n",
       "      <td>271619025</td>\n",
       "    </tr>\n",
       "    <tr>\n",
       "      <th>3</th>\n",
       "      <td>Star Wars: The Force Awakens</td>\n",
       "      <td>Action</td>\n",
       "      <td>Harrison Ford</td>\n",
       "      <td>J.J. Abrams</td>\n",
       "      <td>Lucasfilm</td>\n",
       "      <td>Winter</td>\n",
       "      <td>2015</td>\n",
       "      <td>10s</td>\n",
       "      <td>136</td>\n",
       "      <td>11.173104</td>\n",
       "      <td>5292</td>\n",
       "      <td>7.5</td>\n",
       "      <td>183999919</td>\n",
       "      <td>1902723129</td>\n",
       "    </tr>\n",
       "    <tr>\n",
       "      <th>4</th>\n",
       "      <td>Furious 7</td>\n",
       "      <td>Action</td>\n",
       "      <td>Vin Diesel</td>\n",
       "      <td>James Wan</td>\n",
       "      <td>Universal Pictures</td>\n",
       "      <td>Spring</td>\n",
       "      <td>2015</td>\n",
       "      <td>10s</td>\n",
       "      <td>137</td>\n",
       "      <td>9.335014</td>\n",
       "      <td>2947</td>\n",
       "      <td>7.3</td>\n",
       "      <td>174799923</td>\n",
       "      <td>1385748801</td>\n",
       "    </tr>\n",
       "  </tbody>\n",
       "</table>\n",
       "</div>"
      ],
      "text/plain": [
       "                 original_title main_genre       lead_talent  \\\n",
       "0                Jurassic World     Action       Chris Pratt   \n",
       "1            Mad Max: Fury Road     Action         Tom Hardy   \n",
       "2                     Insurgent  Adventure  Shailene Woodley   \n",
       "3  Star Wars: The Force Awakens     Action     Harrison Ford   \n",
       "4                     Furious 7     Action        Vin Diesel   \n",
       "\n",
       "           director    lead_production_company  season  release_year  era  \\\n",
       "0   Colin Trevorrow          Universal Studios  Summer          2015  10s   \n",
       "1     George Miller  Village Roadshow Pictures  Spring          2015  10s   \n",
       "2  Robert Schwentke       Summit Entertainment  Spring          2015  10s   \n",
       "3       J.J. Abrams                  Lucasfilm  Winter          2015  10s   \n",
       "4         James Wan         Universal Pictures  Spring          2015  10s   \n",
       "\n",
       "   runtime  popularity  vote_count  vote_average  budget_adj  revenue_adj  \n",
       "0      124   32.985763        5562           6.5   137999939   1392445892  \n",
       "1      120   28.419936        6185           7.1   137999939    348161292  \n",
       "2      119   13.112507        2480           6.3   101199955    271619025  \n",
       "3      136   11.173104        5292           7.5   183999919   1902723129  \n",
       "4      137    9.335014        2947           7.3   174799923   1385748801  "
      ]
     },
     "execution_count": 29,
     "metadata": {},
     "output_type": "execute_result"
    }
   ],
   "source": [
    "movie.head()"
   ]
  },
  {
   "cell_type": "code",
   "execution_count": 30,
   "metadata": {
    "scrolled": false
   },
   "outputs": [
    {
     "data": {
      "text/plain": [
       "original_title              0\n",
       "main_genre                  0\n",
       "lead_talent                 0\n",
       "director                   44\n",
       "lead_production_company     0\n",
       "season                      0\n",
       "release_year                0\n",
       "era                         0\n",
       "runtime                     0\n",
       "popularity                  0\n",
       "vote_count                  0\n",
       "vote_average                0\n",
       "budget_adj                  0\n",
       "revenue_adj                 0\n",
       "dtype: int64"
      ]
     },
     "execution_count": 30,
     "metadata": {},
     "output_type": "execute_result"
    }
   ],
   "source": [
    "#checking null values\n",
    "movie.isnull().sum()"
   ]
  },
  {
   "cell_type": "code",
   "execution_count": 31,
   "metadata": {},
   "outputs": [
    {
     "data": {
      "text/plain": [
       "nan                                       1030\n",
       "Universal Pictures                         460\n",
       "Paramount Pictures                         426\n",
       "Columbia Pictures                          271\n",
       "Twentieth Century Fox Film Corporation     242\n",
       "                                          ... \n",
       "Seasonal Film Corporation                    1\n",
       "Gare Farrand Entertainment                   1\n",
       "Playboy Productions                          1\n",
       "UK Film Studio                               1\n",
       "Thank You, Brain! Productions                1\n",
       "Name: lead_production_company, Length: 3058, dtype: int64"
      ]
     },
     "execution_count": 31,
     "metadata": {},
     "output_type": "execute_result"
    }
   ],
   "source": [
    "movie['lead_production_company'].value_counts(dropna=False)"
   ]
  },
  {
   "cell_type": "code",
   "execution_count": 32,
   "metadata": {},
   "outputs": [
    {
     "data": {
      "text/plain": [
       "nan                76\n",
       "Nicolas Cage       50\n",
       "Robert De Niro     42\n",
       "Bruce Willis       39\n",
       "Clint Eastwood     38\n",
       "                   ..\n",
       "Michael Teigen      1\n",
       "Macon Blair         1\n",
       "George Hamilton     1\n",
       "Sean Clement        1\n",
       "Charles Dance       1\n",
       "Name: lead_talent, Length: 4301, dtype: int64"
      ]
     },
     "execution_count": 32,
     "metadata": {},
     "output_type": "execute_result"
    }
   ],
   "source": [
    "movie['lead_talent'].value_counts(dropna=False)"
   ]
  },
  {
   "cell_type": "code",
   "execution_count": 33,
   "metadata": {},
   "outputs": [
    {
     "data": {
      "text/plain": [
       "Drama              2453\n",
       "Comedy             2319\n",
       "Action             1590\n",
       "Horror              915\n",
       "Adventure           586\n",
       "Thriller            491\n",
       "Documentary         432\n",
       "Animation           403\n",
       "Crime               381\n",
       "Fantasy             272\n",
       "Science Fiction     214\n",
       "Romance             186\n",
       "Family              144\n",
       "Mystery             125\n",
       "Music               100\n",
       "TV Movie             78\n",
       "War                  59\n",
       "History              44\n",
       "Western              42\n",
       "nan                  23\n",
       "Foreign               9\n",
       "Name: main_genre, dtype: int64"
      ]
     },
     "execution_count": 33,
     "metadata": {},
     "output_type": "execute_result"
    }
   ],
   "source": [
    "movie['main_genre'].value_counts(dropna=False)"
   ]
  },
  {
   "cell_type": "markdown",
   "metadata": {},
   "source": [
    "#### There seemed to be null values encoded as 'nan' and because the rest of the values are widely distrubuted; mode imputation is not a good idea Therefore will have to drop them"
   ]
  },
  {
   "cell_type": "code",
   "execution_count": 34,
   "metadata": {},
   "outputs": [],
   "source": [
    "movie = movie[(movie['lead_production_company']!= 'nan') & (movie['lead_talent'] != 'nan') & (movie['main_genre']!= 'nan') ]"
   ]
  },
  {
   "cell_type": "code",
   "execution_count": 35,
   "metadata": {},
   "outputs": [
    {
     "data": {
      "text/plain": [
       "Nicolas Cage                50\n",
       "Robert De Niro              42\n",
       "Bruce Willis                39\n",
       "Clint Eastwood              38\n",
       "Johnny Depp                 37\n",
       "                            ..\n",
       "Giovanni Lombardo Radice     1\n",
       "Camilla Arfwedson            1\n",
       "Ellen Muth                   1\n",
       "Paris Hilton                 1\n",
       "Shye Ben Tzur                1\n",
       "Name: lead_talent, Length: 3811, dtype: int64"
      ]
     },
     "execution_count": 35,
     "metadata": {},
     "output_type": "execute_result"
    }
   ],
   "source": [
    "movie['lead_talent'].value_counts(dropna=False)"
   ]
  },
  {
   "cell_type": "code",
   "execution_count": 36,
   "metadata": {},
   "outputs": [
    {
     "data": {
      "text/plain": [
       "Universal Pictures                        460\n",
       "Paramount Pictures                        426\n",
       "Columbia Pictures                         271\n",
       "Twentieth Century Fox Film Corporation    242\n",
       "Walt Disney Pictures                      213\n",
       "                                         ... \n",
       "Gare Farrand Entertainment                  1\n",
       "Playboy Productions                         1\n",
       "UK Film Studio                              1\n",
       "Alta Vista Film Production                  1\n",
       "Thank You, Brain! Productions               1\n",
       "Name: lead_production_company, Length: 3040, dtype: int64"
      ]
     },
     "execution_count": 36,
     "metadata": {},
     "output_type": "execute_result"
    }
   ],
   "source": [
    "movie['lead_production_company'].value_counts(dropna=False)"
   ]
  },
  {
   "cell_type": "code",
   "execution_count": 37,
   "metadata": {},
   "outputs": [
    {
     "data": {
      "text/plain": [
       "Drama              2226\n",
       "Comedy             2087\n",
       "Action             1480\n",
       "Horror              853\n",
       "Adventure           550\n",
       "Thriller            474\n",
       "Crime               362\n",
       "Animation           348\n",
       "Documentary         269\n",
       "Fantasy             253\n",
       "Science Fiction     197\n",
       "Romance             161\n",
       "Family              128\n",
       "Mystery             118\n",
       "Music                80\n",
       "TV Movie             62\n",
       "War                  57\n",
       "Western              42\n",
       "History              39\n",
       "Foreign               6\n",
       "Name: main_genre, dtype: int64"
      ]
     },
     "execution_count": 37,
     "metadata": {},
     "output_type": "execute_result"
    }
   ],
   "source": [
    "movie['main_genre'].value_counts(dropna=False)"
   ]
  },
  {
   "cell_type": "code",
   "execution_count": 38,
   "metadata": {},
   "outputs": [
    {
     "data": {
      "text/plain": [
       "(9792, 14)"
      ]
     },
     "execution_count": 38,
     "metadata": {},
     "output_type": "execute_result"
    }
   ],
   "source": [
    "movie.shape"
   ]
  },
  {
   "cell_type": "markdown",
   "metadata": {},
   "source": [
    "#### numerous rows in budget and revenue column encoded as 0 which is not sensible therefore, will be treated as null values"
   ]
  },
  {
   "cell_type": "code",
   "execution_count": 39,
   "metadata": {},
   "outputs": [
    {
     "data": {
      "text/plain": [
       "0            4769\n",
       "21033371       17\n",
       "20000000       16\n",
       "10164004       16\n",
       "4605455        15\n",
       "             ... \n",
       "26072804        1\n",
       "4038896         1\n",
       "159125669       1\n",
       "21344409        1\n",
       "12382394        1\n",
       "Name: budget_adj, Length: 2539, dtype: int64"
      ]
     },
     "execution_count": 39,
     "metadata": {},
     "output_type": "execute_result"
    }
   ],
   "source": [
    "movie['budget_adj'].value_counts()"
   ]
  },
  {
   "cell_type": "code",
   "execution_count": 40,
   "metadata": {},
   "outputs": [
    {
     "data": {
      "text/plain": [
       "0            5040\n",
       "10              3\n",
       "89906740        2\n",
       "29106404        2\n",
       "13              2\n",
       "             ... \n",
       "449076041       1\n",
       "43971435        1\n",
       "44329315        1\n",
       "47891309        1\n",
       "32411742        1\n",
       "Name: revenue_adj, Length: 4736, dtype: int64"
      ]
     },
     "execution_count": 40,
     "metadata": {},
     "output_type": "execute_result"
    }
   ],
   "source": [
    "movie['revenue_adj'].value_counts()"
   ]
  },
  {
   "cell_type": "markdown",
   "metadata": {},
   "source": [
    "### as seen above, tere are some rows with value '0' in the revenue column and the budjet column which is not sensible. Therefore, will be removed from analysis"
   ]
  },
  {
   "cell_type": "code",
   "execution_count": 41,
   "metadata": {},
   "outputs": [],
   "source": [
    "movie = movie[(movie['budget_adj']!=0) & (movie['revenue_adj']!=0)]"
   ]
  },
  {
   "cell_type": "markdown",
   "metadata": {},
   "source": [
    "### creating a new column return on investment  ROI(%) to asses profit"
   ]
  },
  {
   "cell_type": "code",
   "execution_count": 42,
   "metadata": {},
   "outputs": [],
   "source": [
    "#adding a Return On Investment Percentage column (ROI %)\n",
    "\n",
    "movie['ROI(%)'] = np.round((movie['revenue_adj'] / movie['budget_adj']) *100) \n",
    "movie['ROI(%)']= movie['ROI(%)'].astype('int64')"
   ]
  },
  {
   "cell_type": "code",
   "execution_count": 43,
   "metadata": {
    "scrolled": true
   },
   "outputs": [
    {
     "data": {
      "text/plain": [
       "original_title             0\n",
       "main_genre                 0\n",
       "lead_talent                0\n",
       "director                   1\n",
       "lead_production_company    0\n",
       "season                     0\n",
       "release_year               0\n",
       "era                        0\n",
       "runtime                    0\n",
       "popularity                 0\n",
       "vote_count                 0\n",
       "vote_average               0\n",
       "budget_adj                 0\n",
       "revenue_adj                0\n",
       "ROI(%)                     0\n",
       "dtype: int64"
      ]
     },
     "execution_count": 43,
     "metadata": {},
     "output_type": "execute_result"
    }
   ],
   "source": [
    "movie.isnull().sum()"
   ]
  },
  {
   "cell_type": "code",
   "execution_count": 44,
   "metadata": {},
   "outputs": [],
   "source": [
    "movie.dropna(axis=0, inplace=True)"
   ]
  },
  {
   "cell_type": "code",
   "execution_count": 45,
   "metadata": {},
   "outputs": [
    {
     "data": {
      "text/plain": [
       "original_title             0\n",
       "main_genre                 0\n",
       "lead_talent                0\n",
       "director                   0\n",
       "lead_production_company    0\n",
       "season                     0\n",
       "release_year               0\n",
       "era                        0\n",
       "runtime                    0\n",
       "popularity                 0\n",
       "vote_count                 0\n",
       "vote_average               0\n",
       "budget_adj                 0\n",
       "revenue_adj                0\n",
       "ROI(%)                     0\n",
       "dtype: int64"
      ]
     },
     "execution_count": 45,
     "metadata": {},
     "output_type": "execute_result"
    }
   ],
   "source": [
    "movie.isnull().sum()"
   ]
  },
  {
   "cell_type": "code",
   "execution_count": 46,
   "metadata": {},
   "outputs": [
    {
     "data": {
      "text/plain": [
       "(3805, 15)"
      ]
     },
     "execution_count": 46,
     "metadata": {},
     "output_type": "execute_result"
    }
   ],
   "source": [
    "movie.shape"
   ]
  },
  {
   "cell_type": "code",
   "execution_count": 47,
   "metadata": {
    "scrolled": false
   },
   "outputs": [
    {
     "data": {
      "text/html": [
       "<div>\n",
       "<style scoped>\n",
       "    .dataframe tbody tr th:only-of-type {\n",
       "        vertical-align: middle;\n",
       "    }\n",
       "\n",
       "    .dataframe tbody tr th {\n",
       "        vertical-align: top;\n",
       "    }\n",
       "\n",
       "    .dataframe thead th {\n",
       "        text-align: right;\n",
       "    }\n",
       "</style>\n",
       "<table border=\"1\" class=\"dataframe\">\n",
       "  <thead>\n",
       "    <tr style=\"text-align: right;\">\n",
       "      <th></th>\n",
       "      <th>original_title</th>\n",
       "      <th>main_genre</th>\n",
       "      <th>lead_talent</th>\n",
       "      <th>director</th>\n",
       "      <th>lead_production_company</th>\n",
       "      <th>season</th>\n",
       "      <th>release_year</th>\n",
       "      <th>era</th>\n",
       "      <th>runtime</th>\n",
       "      <th>popularity</th>\n",
       "      <th>vote_count</th>\n",
       "      <th>vote_average</th>\n",
       "      <th>budget_adj</th>\n",
       "      <th>revenue_adj</th>\n",
       "      <th>ROI(%)</th>\n",
       "    </tr>\n",
       "  </thead>\n",
       "  <tbody>\n",
       "    <tr>\n",
       "      <th>0</th>\n",
       "      <td>Jurassic World</td>\n",
       "      <td>Action</td>\n",
       "      <td>Chris Pratt</td>\n",
       "      <td>Colin Trevorrow</td>\n",
       "      <td>Universal Studios</td>\n",
       "      <td>Summer</td>\n",
       "      <td>2015</td>\n",
       "      <td>10s</td>\n",
       "      <td>124</td>\n",
       "      <td>32.985763</td>\n",
       "      <td>5562</td>\n",
       "      <td>6.5</td>\n",
       "      <td>137999939</td>\n",
       "      <td>1392445892</td>\n",
       "      <td>1009</td>\n",
       "    </tr>\n",
       "    <tr>\n",
       "      <th>1</th>\n",
       "      <td>Mad Max: Fury Road</td>\n",
       "      <td>Action</td>\n",
       "      <td>Tom Hardy</td>\n",
       "      <td>George Miller</td>\n",
       "      <td>Village Roadshow Pictures</td>\n",
       "      <td>Spring</td>\n",
       "      <td>2015</td>\n",
       "      <td>10s</td>\n",
       "      <td>120</td>\n",
       "      <td>28.419936</td>\n",
       "      <td>6185</td>\n",
       "      <td>7.1</td>\n",
       "      <td>137999939</td>\n",
       "      <td>348161292</td>\n",
       "      <td>252</td>\n",
       "    </tr>\n",
       "    <tr>\n",
       "      <th>2</th>\n",
       "      <td>Insurgent</td>\n",
       "      <td>Adventure</td>\n",
       "      <td>Shailene Woodley</td>\n",
       "      <td>Robert Schwentke</td>\n",
       "      <td>Summit Entertainment</td>\n",
       "      <td>Spring</td>\n",
       "      <td>2015</td>\n",
       "      <td>10s</td>\n",
       "      <td>119</td>\n",
       "      <td>13.112507</td>\n",
       "      <td>2480</td>\n",
       "      <td>6.3</td>\n",
       "      <td>101199955</td>\n",
       "      <td>271619025</td>\n",
       "      <td>268</td>\n",
       "    </tr>\n",
       "    <tr>\n",
       "      <th>3</th>\n",
       "      <td>Star Wars: The Force Awakens</td>\n",
       "      <td>Action</td>\n",
       "      <td>Harrison Ford</td>\n",
       "      <td>J.J. Abrams</td>\n",
       "      <td>Lucasfilm</td>\n",
       "      <td>Winter</td>\n",
       "      <td>2015</td>\n",
       "      <td>10s</td>\n",
       "      <td>136</td>\n",
       "      <td>11.173104</td>\n",
       "      <td>5292</td>\n",
       "      <td>7.5</td>\n",
       "      <td>183999919</td>\n",
       "      <td>1902723129</td>\n",
       "      <td>1034</td>\n",
       "    </tr>\n",
       "  </tbody>\n",
       "</table>\n",
       "</div>"
      ],
      "text/plain": [
       "                 original_title main_genre       lead_talent  \\\n",
       "0                Jurassic World     Action       Chris Pratt   \n",
       "1            Mad Max: Fury Road     Action         Tom Hardy   \n",
       "2                     Insurgent  Adventure  Shailene Woodley   \n",
       "3  Star Wars: The Force Awakens     Action     Harrison Ford   \n",
       "\n",
       "           director    lead_production_company  season  release_year  era  \\\n",
       "0   Colin Trevorrow          Universal Studios  Summer          2015  10s   \n",
       "1     George Miller  Village Roadshow Pictures  Spring          2015  10s   \n",
       "2  Robert Schwentke       Summit Entertainment  Spring          2015  10s   \n",
       "3       J.J. Abrams                  Lucasfilm  Winter          2015  10s   \n",
       "\n",
       "   runtime  popularity  vote_count  vote_average  budget_adj  revenue_adj  \\\n",
       "0      124   32.985763        5562           6.5   137999939   1392445892   \n",
       "1      120   28.419936        6185           7.1   137999939    348161292   \n",
       "2      119   13.112507        2480           6.3   101199955    271619025   \n",
       "3      136   11.173104        5292           7.5   183999919   1902723129   \n",
       "\n",
       "   ROI(%)  \n",
       "0    1009  \n",
       "1     252  \n",
       "2     268  \n",
       "3    1034  "
      ]
     },
     "execution_count": 47,
     "metadata": {},
     "output_type": "execute_result"
    }
   ],
   "source": [
    "movie.head(4)"
   ]
  },
  {
   "cell_type": "markdown",
   "metadata": {},
   "source": [
    "<a id='eda'></a>\n",
    "## Exploratory Data Analysis\n",
    "\n",
    "> **Tip**: Now that you've trimmed and cleaned your data, you're ready to move on to exploration. Compute statistics and create visualizations with the goal of addressing the research questions that you posed in the Introduction section. It is recommended that you be systematic with your approach. Look at one variable at a time, and then follow it up by looking at relationships between variables.\n",
    "\n",
    "### Research Question 1 (What features are most correlated with revenue?)"
   ]
  },
  {
   "cell_type": "code",
   "execution_count": 48,
   "metadata": {
    "scrolled": false
   },
   "outputs": [
    {
     "data": {
      "image/png": "[encoded data removed]",
      "text/plain": [
       "<Figure size 576x576 with 2 Axes>"
      ]
     },
     "metadata": {
      "needs_background": "light"
     },
     "output_type": "display_data"
    }
   ],
   "source": [
    "plt.figure(figsize=(8,8))\n",
    "sns.heatmap(movie.corr(), annot=True);"
   ]
  },
  {
   "cell_type": "code",
   "execution_count": 49,
   "metadata": {
    "scrolled": true
   },
   "outputs": [
    {
     "data": {
      "text/html": [
       "<div>\n",
       "<style scoped>\n",
       "    .dataframe tbody tr th:only-of-type {\n",
       "        vertical-align: middle;\n",
       "    }\n",
       "\n",
       "    .dataframe tbody tr th {\n",
       "        vertical-align: top;\n",
       "    }\n",
       "\n",
       "    .dataframe thead th {\n",
       "        text-align: right;\n",
       "    }\n",
       "</style>\n",
       "<table border=\"1\" class=\"dataframe\">\n",
       "  <thead>\n",
       "    <tr style=\"text-align: right;\">\n",
       "      <th></th>\n",
       "      <th>popularity</th>\n",
       "      <th>vote_average</th>\n",
       "      <th>revenue_adj</th>\n",
       "      <th>ROI(%)</th>\n",
       "    </tr>\n",
       "  </thead>\n",
       "  <tbody>\n",
       "    <tr>\n",
       "      <th>0</th>\n",
       "      <td>32.985763</td>\n",
       "      <td>6.5</td>\n",
       "      <td>1392445892</td>\n",
       "      <td>1009</td>\n",
       "    </tr>\n",
       "    <tr>\n",
       "      <th>1</th>\n",
       "      <td>28.419936</td>\n",
       "      <td>7.1</td>\n",
       "      <td>348161292</td>\n",
       "      <td>252</td>\n",
       "    </tr>\n",
       "    <tr>\n",
       "      <th>2</th>\n",
       "      <td>13.112507</td>\n",
       "      <td>6.3</td>\n",
       "      <td>271619025</td>\n",
       "      <td>268</td>\n",
       "    </tr>\n",
       "  </tbody>\n",
       "</table>\n",
       "</div>"
      ],
      "text/plain": [
       "   popularity  vote_average  revenue_adj  ROI(%)\n",
       "0   32.985763           6.5   1392445892    1009\n",
       "1   28.419936           7.1    348161292     252\n",
       "2   13.112507           6.3    271619025     268"
      ]
     },
     "execution_count": 49,
     "metadata": {},
     "output_type": "execute_result"
    }
   ],
   "source": [
    "exp = movie[['popularity', 'vote_average', 'revenue_adj', 'ROI(%)']]\n",
    "exp.head(3)"
   ]
  },
  {
   "cell_type": "code",
   "execution_count": 50,
   "metadata": {},
   "outputs": [
    {
     "data": {
      "image/png": "[encoded data removed]",
      "text/plain": [
       "<Figure size 432x288 with 2 Axes>"
      ]
     },
     "metadata": {
      "needs_background": "light"
     },
     "output_type": "display_data"
    }
   ],
   "source": [
    "sns.heatmap(exp.corr(method='kendall'), annot=True);"
   ]
  },
  {
   "cell_type": "code",
   "execution_count": 51,
   "metadata": {
    "scrolled": false
   },
   "outputs": [
    {
     "data": {
      "image/png": "[encoded data removed]",
      "text/plain": [
       "<Figure size 432x288 with 2 Axes>"
      ]
     },
     "metadata": {
      "needs_background": "light"
     },
     "output_type": "display_data"
    }
   ],
   "source": [
    "sns.heatmap(exp.corr(method='spearman'), annot=True);"
   ]
  },
  {
   "cell_type": "markdown",
   "metadata": {},
   "source": [
    "> as seen above from the heatmap created from the dataframes (exclusing rows with value '0' in revenue and budget columns) that there is a correlation between 'Budget' and 'Revenue', a correlation between ''Popularity'' and ''Revenue'' (measured with spearman's rho and Kendall's Tau as popularity columns values are ordinal), and  also a stronger  correlation between  ''Vote count'' and ''Revenue''"
   ]
  },
  {
   "cell_type": "markdown",
   "metadata": {},
   "source": [
    "### Research Question 2  (Do seasons differ in movie production?)"
   ]
  },
  {
   "cell_type": "code",
   "execution_count": 53,
   "metadata": {},
   "outputs": [
    {
     "data": {
      "text/html": [
       "<div>\n",
       "<style scoped>\n",
       "    .dataframe tbody tr th:only-of-type {\n",
       "        vertical-align: middle;\n",
       "    }\n",
       "\n",
       "    .dataframe tbody tr th {\n",
       "        vertical-align: top;\n",
       "    }\n",
       "\n",
       "    .dataframe thead th {\n",
       "        text-align: right;\n",
       "    }\n",
       "</style>\n",
       "<table border=\"1\" class=\"dataframe\">\n",
       "  <thead>\n",
       "    <tr style=\"text-align: right;\">\n",
       "      <th></th>\n",
       "      <th>season</th>\n",
       "      <th>main_genre</th>\n",
       "      <th>original_title</th>\n",
       "    </tr>\n",
       "  </thead>\n",
       "  <tbody>\n",
       "    <tr>\n",
       "      <th>6</th>\n",
       "      <td>Fall</td>\n",
       "      <td>Drama</td>\n",
       "      <td>333</td>\n",
       "    </tr>\n",
       "    <tr>\n",
       "      <th>61</th>\n",
       "      <td>Winter</td>\n",
       "      <td>Drama</td>\n",
       "      <td>228</td>\n",
       "    </tr>\n",
       "    <tr>\n",
       "      <th>40</th>\n",
       "      <td>Summer</td>\n",
       "      <td>Comedy</td>\n",
       "      <td>213</td>\n",
       "    </tr>\n",
       "    <tr>\n",
       "      <th>21</th>\n",
       "      <td>Spring</td>\n",
       "      <td>Comedy</td>\n",
       "      <td>166</td>\n",
       "    </tr>\n",
       "  </tbody>\n",
       "</table>\n",
       "</div>"
      ],
      "text/plain": [
       "    season main_genre  original_title\n",
       "6     Fall      Drama             333\n",
       "61  Winter      Drama             228\n",
       "40  Summer     Comedy             213\n",
       "21  Spring     Comedy             166"
      ]
     },
     "execution_count": 53,
     "metadata": {},
     "output_type": "execute_result"
    }
   ],
   "source": [
    "mov_genre_seas = movie.groupby(['season',\n",
    "                                      'main_genre'], as_index = False)['original_title'].count().sort_values( 'original_title',\n",
    "                                                                                                             ascending=False)\n",
    "\n",
    "most_gen_season = mov_genre_seas.groupby('season').head(1)\n",
    "most_gen_season"
   ]
  },
  {
   "cell_type": "code",
   "execution_count": 205,
   "metadata": {},
   "outputs": [
    {
     "data": {
      "image/png": "[encoded data removed]",
      "text/plain": [
       "<Figure size 576x432 with 1 Axes>"
      ]
     },
     "metadata": {
      "needs_background": "light"
     },
     "output_type": "display_data"
    }
   ],
   "source": [
    "plt.figure(figsize=(8,6))\n",
    "sns.barplot(x='season', y='original_title', hue='main_genre', data=most_gen_season, palette=\"Blues_d\")\n",
    "plt.xlabel('Season', fontsize=12)\n",
    "plt.ylabel('number of movies', fontsize=12)\n",
    "plt.title('Most genre produced per season', fontsize=15);"
   ]
  },
  {
   "cell_type": "markdown",
   "metadata": {},
   "source": [
    "> as shown above; in Fall and Winter Drama is the most produced genre while in Summer and Spring Comedy is the most produced genre"
   ]
  },
  {
   "cell_type": "code",
   "execution_count": 119,
   "metadata": {},
   "outputs": [
    {
     "data": {
      "image/png": "[encoded data removed]",
      "text/plain": [
       "<Figure size 576x432 with 1 Axes>"
      ]
     },
     "metadata": {
      "needs_background": "light"
     },
     "output_type": "display_data"
    }
   ],
   "source": [
    "plt.figure(figsize=(8,6))\n",
    "movie.groupby('season')['revenue_adj'].mean().sort_values(ascending=False).plot(kind='bar');\n",
    "plt.ylabel('Revenue', fontsize=12)\n",
    "plt.xlabel('Season', fontsize=12)\n",
    "plt.title('Mean revenue per season', fontsize=15);"
   ]
  },
  {
   "cell_type": "markdown",
   "metadata": {},
   "source": [
    "> as shown above, on average Summer yields the most revenue in the movie industry followed by Spring and Winter"
   ]
  },
  {
   "cell_type": "code",
   "execution_count": 54,
   "metadata": {},
   "outputs": [
    {
     "data": {
      "image/png": "[encoded data removed]",
      "text/plain": [
       "<Figure size 576x432 with 1 Axes>"
      ]
     },
     "metadata": {
      "needs_background": "light"
     },
     "output_type": "display_data"
    }
   ],
   "source": [
    "plt.figure(figsize=(8,6))\n",
    "movie.groupby(['season'])['original_title'].count().sort_values(ascending=False).plot(kind='bar')\n",
    "plt.ylabel('number of movies', fontsize=12)\n",
    "plt.xlabel('Season', fontsize=12)\n",
    "plt.title('Number of movies produced per season', fontsize=15);"
   ]
  },
  {
   "cell_type": "markdown",
   "metadata": {},
   "source": [
    "> as shown above, the most number movies are produced in Fall followed by Summer and Winter"
   ]
  },
  {
   "cell_type": "markdown",
   "metadata": {},
   "source": [
    "### Research Question 3  (How do eras differ in movie production?)"
   ]
  },
  {
   "cell_type": "code",
   "execution_count": 229,
   "metadata": {},
   "outputs": [
    {
     "data": {
      "text/html": [
       "<div>\n",
       "<style scoped>\n",
       "    .dataframe tbody tr th:only-of-type {\n",
       "        vertical-align: middle;\n",
       "    }\n",
       "\n",
       "    .dataframe tbody tr th {\n",
       "        vertical-align: top;\n",
       "    }\n",
       "\n",
       "    .dataframe thead th {\n",
       "        text-align: right;\n",
       "    }\n",
       "</style>\n",
       "<table border=\"1\" class=\"dataframe\">\n",
       "  <thead>\n",
       "    <tr style=\"text-align: right;\">\n",
       "      <th></th>\n",
       "      <th>era</th>\n",
       "      <th>main_genre</th>\n",
       "      <th>original_title</th>\n",
       "    </tr>\n",
       "  </thead>\n",
       "  <tbody>\n",
       "    <tr>\n",
       "      <th>6</th>\n",
       "      <td>00s</td>\n",
       "      <td>Drama</td>\n",
       "      <td>333</td>\n",
       "    </tr>\n",
       "    <tr>\n",
       "      <th>24</th>\n",
       "      <td>10s</td>\n",
       "      <td>Drama</td>\n",
       "      <td>258</td>\n",
       "    </tr>\n",
       "    <tr>\n",
       "      <th>86</th>\n",
       "      <td>90s</td>\n",
       "      <td>Drama</td>\n",
       "      <td>171</td>\n",
       "    </tr>\n",
       "    <tr>\n",
       "      <th>66</th>\n",
       "      <td>80s</td>\n",
       "      <td>Comedy</td>\n",
       "      <td>77</td>\n",
       "    </tr>\n",
       "    <tr>\n",
       "      <th>54</th>\n",
       "      <td>70s</td>\n",
       "      <td>Drama</td>\n",
       "      <td>35</td>\n",
       "    </tr>\n",
       "    <tr>\n",
       "      <th>40</th>\n",
       "      <td>60s</td>\n",
       "      <td>Drama</td>\n",
       "      <td>16</td>\n",
       "    </tr>\n",
       "  </tbody>\n",
       "</table>\n",
       "</div>"
      ],
      "text/plain": [
       "    era main_genre  original_title\n",
       "6   00s      Drama             333\n",
       "24  10s      Drama             258\n",
       "86  90s      Drama             171\n",
       "66  80s     Comedy              77\n",
       "54  70s      Drama              35\n",
       "40  60s      Drama              16"
      ]
     },
     "execution_count": 229,
     "metadata": {},
     "output_type": "execute_result"
    }
   ],
   "source": [
    "mov_genre_era = movie.groupby(['era',\n",
    "                                      'main_genre'], as_index = False)['original_title'].count().sort_values('original_title',\n",
    "                                                                                                             ascending=False)\n",
    "\n",
    "most_gen_era = mov_genre_era.groupby('era').head(1)\n",
    "most_gen_era"
   ]
  },
  {
   "cell_type": "code",
   "execution_count": 223,
   "metadata": {
    "scrolled": false
   },
   "outputs": [
    {
     "data": {
      "image/png": "[encoded data removed]",
      "text/plain": [
       "<Figure size 576x432 with 1 Axes>"
      ]
     },
     "metadata": {
      "needs_background": "light"
     },
     "output_type": "display_data"
    }
   ],
   "source": [
    "plt.figure(figsize=(8,6))\n",
    "sns.barplot(x='era', y='original_title', hue='main_genre', data=most_gen_era, palette=\"Blues_d\")\n",
    "plt.xlabel('Era', fontsize=12)\n",
    "plt.ylabel('number of movies', fontsize=12)\n",
    "plt.title('Most genre produced per Era', fontsize=15);"
   ]
  },
  {
   "cell_type": "markdown",
   "metadata": {},
   "source": [
    "> as shown above, seems like drama has always been predominate in almost every era except the 80's which has shown more interest in comedy"
   ]
  },
  {
   "cell_type": "code",
   "execution_count": 55,
   "metadata": {},
   "outputs": [
    {
     "data": {
      "text/html": [
       "<div>\n",
       "<style scoped>\n",
       "    .dataframe tbody tr th:only-of-type {\n",
       "        vertical-align: middle;\n",
       "    }\n",
       "\n",
       "    .dataframe tbody tr th {\n",
       "        vertical-align: top;\n",
       "    }\n",
       "\n",
       "    .dataframe thead th {\n",
       "        text-align: right;\n",
       "    }\n",
       "</style>\n",
       "<table border=\"1\" class=\"dataframe\">\n",
       "  <thead>\n",
       "    <tr style=\"text-align: right;\">\n",
       "      <th></th>\n",
       "      <th>era</th>\n",
       "      <th>main_genre</th>\n",
       "      <th>popularity</th>\n",
       "    </tr>\n",
       "  </thead>\n",
       "  <tbody>\n",
       "    <tr>\n",
       "      <th>35</th>\n",
       "      <td>10s</td>\n",
       "      <td>Western</td>\n",
       "      <td>3.456132</td>\n",
       "    </tr>\n",
       "    <tr>\n",
       "      <th>46</th>\n",
       "      <td>60s</td>\n",
       "      <td>Science Fiction</td>\n",
       "      <td>3.309196</td>\n",
       "    </tr>\n",
       "    <tr>\n",
       "      <th>55</th>\n",
       "      <td>70s</td>\n",
       "      <td>Family</td>\n",
       "      <td>2.430667</td>\n",
       "    </tr>\n",
       "    <tr>\n",
       "      <th>82</th>\n",
       "      <td>90s</td>\n",
       "      <td>Animation</td>\n",
       "      <td>1.965482</td>\n",
       "    </tr>\n",
       "    <tr>\n",
       "      <th>8</th>\n",
       "      <td>00s</td>\n",
       "      <td>Fantasy</td>\n",
       "      <td>1.911929</td>\n",
       "    </tr>\n",
       "    <tr>\n",
       "      <th>65</th>\n",
       "      <td>80s</td>\n",
       "      <td>Animation</td>\n",
       "      <td>1.522389</td>\n",
       "    </tr>\n",
       "  </tbody>\n",
       "</table>\n",
       "</div>"
      ],
      "text/plain": [
       "    era       main_genre  popularity\n",
       "35  10s          Western    3.456132\n",
       "46  60s  Science Fiction    3.309196\n",
       "55  70s           Family    2.430667\n",
       "82  90s        Animation    1.965482\n",
       "8   00s          Fantasy    1.911929\n",
       "65  80s        Animation    1.522389"
      ]
     },
     "execution_count": 55,
     "metadata": {},
     "output_type": "execute_result"
    }
   ],
   "source": [
    "mov_pop_era = movie.groupby(['era',\n",
    "                            'main_genre'], as_index = False)['popularity'].mean().sort_values('popularity',\n",
    "                                                                                                             ascending=False)\n",
    "\n",
    "most_pop_era = mov_pop_era.groupby('era').head(1)\n",
    "most_pop_era"
   ]
  },
  {
   "cell_type": "code",
   "execution_count": 57,
   "metadata": {},
   "outputs": [
    {
     "data": {
      "image/png": "[encoded data removed]",
      "text/plain": [
       "<Figure size 576x432 with 1 Axes>"
      ]
     },
     "metadata": {
      "needs_background": "light"
     },
     "output_type": "display_data"
    }
   ],
   "source": [
    "plt.figure(figsize=(8,6))\n",
    "sns.barplot(x='era', y='popularity', hue='main_genre', data=most_pop_era)\n",
    "plt.xlabel('Era', fontsize=12)\n",
    "plt.ylabel('Popularity', fontsize=12)\n",
    "plt.title('Most popular genre per era', fontsize=15);"
   ]
  },
  {
   "cell_type": "markdown",
   "metadata": {},
   "source": [
    "> as shown above, most popular genre in 2010+ years was Western and surprisingly the most popular genre in the 60's was Science Fiction"
   ]
  },
  {
   "cell_type": "code",
   "execution_count": 58,
   "metadata": {},
   "outputs": [
    {
     "data": {
      "text/html": [
       "<div>\n",
       "<style scoped>\n",
       "    .dataframe tbody tr th:only-of-type {\n",
       "        vertical-align: middle;\n",
       "    }\n",
       "\n",
       "    .dataframe tbody tr th {\n",
       "        vertical-align: top;\n",
       "    }\n",
       "\n",
       "    .dataframe thead th {\n",
       "        text-align: right;\n",
       "    }\n",
       "</style>\n",
       "<table border=\"1\" class=\"dataframe\">\n",
       "  <thead>\n",
       "    <tr style=\"text-align: right;\">\n",
       "      <th></th>\n",
       "      <th>era</th>\n",
       "      <th>main_genre</th>\n",
       "      <th>revenue_adj</th>\n",
       "    </tr>\n",
       "  </thead>\n",
       "  <tbody>\n",
       "    <tr>\n",
       "      <th>41</th>\n",
       "      <td>60s</td>\n",
       "      <td>Family</td>\n",
       "      <td>1.345551e+09</td>\n",
       "    </tr>\n",
       "    <tr>\n",
       "      <th>59</th>\n",
       "      <td>70s</td>\n",
       "      <td>Music</td>\n",
       "      <td>6.077490e+08</td>\n",
       "    </tr>\n",
       "    <tr>\n",
       "      <th>87</th>\n",
       "      <td>90s</td>\n",
       "      <td>Family</td>\n",
       "      <td>3.954046e+08</td>\n",
       "    </tr>\n",
       "    <tr>\n",
       "      <th>20</th>\n",
       "      <td>10s</td>\n",
       "      <td>Animation</td>\n",
       "      <td>3.416755e+08</td>\n",
       "    </tr>\n",
       "    <tr>\n",
       "      <th>1</th>\n",
       "      <td>00s</td>\n",
       "      <td>Adventure</td>\n",
       "      <td>3.068947e+08</td>\n",
       "    </tr>\n",
       "    <tr>\n",
       "      <th>64</th>\n",
       "      <td>80s</td>\n",
       "      <td>Adventure</td>\n",
       "      <td>2.486986e+08</td>\n",
       "    </tr>\n",
       "  </tbody>\n",
       "</table>\n",
       "</div>"
      ],
      "text/plain": [
       "    era main_genre   revenue_adj\n",
       "41  60s     Family  1.345551e+09\n",
       "59  70s      Music  6.077490e+08\n",
       "87  90s     Family  3.954046e+08\n",
       "20  10s  Animation  3.416755e+08\n",
       "1   00s  Adventure  3.068947e+08\n",
       "64  80s  Adventure  2.486986e+08"
      ]
     },
     "execution_count": 58,
     "metadata": {},
     "output_type": "execute_result"
    }
   ],
   "source": [
    "mov_rev_era = movie.groupby(['era',\n",
    "                            'main_genre'], as_index = False)['revenue_adj'].mean().sort_values('revenue_adj',\n",
    "                                                                                                             ascending=False)\n",
    "\n",
    "most_rev_era = mov_rev_era.groupby('era').head(1)\n",
    "most_rev_era"
   ]
  },
  {
   "cell_type": "code",
   "execution_count": 59,
   "metadata": {},
   "outputs": [
    {
     "data": {
      "image/png": "[encoded data removed]",
      "text/plain": [
       "<Figure size 576x432 with 1 Axes>"
      ]
     },
     "metadata": {
      "needs_background": "light"
     },
     "output_type": "display_data"
    }
   ],
   "source": [
    "plt.figure(figsize=(8,6))\n",
    "sns.barplot(x='era', y='revenue_adj', hue='main_genre', data=most_rev_era)\n",
    "plt.xlabel('Era', fontsize=12)\n",
    "plt.ylabel('number of movies', fontsize=12)\n",
    "plt.title('Most profitable genre per era', fontsize=15);"
   ]
  },
  {
   "cell_type": "markdown",
   "metadata": {},
   "source": [
    "> as shown above, the most profitable genre per era, the 60's and 90's have seen a rise of revenue towards family genre\n",
    "while the 80's and 2000's profited more from adevnture genres and finally , in the 2010's the most profitable genre was Animation"
   ]
  },
  {
   "cell_type": "markdown",
   "metadata": {},
   "source": [
    "### Research Question 4  (How do genres differ throughout the years?)"
   ]
  },
  {
   "cell_type": "code",
   "execution_count": 61,
   "metadata": {},
   "outputs": [
    {
     "data": {
      "image/png": "[encoded data removed]",
      "text/plain": [
       "<Figure size 576x432 with 1 Axes>"
      ]
     },
     "metadata": {
      "needs_background": "light"
     },
     "output_type": "display_data"
    }
   ],
   "source": [
    "plt.figure(figsize=(8,6))\n",
    "movie.groupby('main_genre')['popularity'].mean().sort_values(ascending=False).plot(kind='bar')\n",
    "plt.xlabel('Genre', fontsize=12)\n",
    "plt.ylabel('Popularity', fontsize=12)\n",
    "plt.title('Mean popularity per Genre', fontsize=15);"
   ]
  },
  {
   "cell_type": "markdown",
   "metadata": {},
   "source": [
    "> as shown above, On average throughout the years Science Fiction has always been the most popular genre followed by Adventure and Animation While Documentries are almost the least popular"
   ]
  },
  {
   "cell_type": "code",
   "execution_count": 60,
   "metadata": {},
   "outputs": [
    {
     "data": {
      "image/png": "[encoded data removed]",
      "text/plain": [
       "<Figure size 576x432 with 1 Axes>"
      ]
     },
     "metadata": {
      "needs_background": "light"
     },
     "output_type": "display_data"
    }
   ],
   "source": [
    "plt.figure(figsize=(8,6))\n",
    "movie.groupby('main_genre')['revenue_adj'].mean().sort_values(ascending=False).plot(kind='bar')\n",
    "plt.xlabel('Genre', fontsize=12)\n",
    "plt.ylabel('Revenue', fontsize=12)\n",
    "plt.title('Mean revenue per Genre', fontsize=15);"
   ]
  },
  {
   "cell_type": "markdown",
   "metadata": {},
   "source": [
    ">as shown above, throughout the years Adventure movies has seen the most revenue on average followed by Animation movies"
   ]
  },
  {
   "cell_type": "markdown",
   "metadata": {},
   "source": [
    "### Research Question 5  (Who are the most popular directors and talents per era?)"
   ]
  },
  {
   "cell_type": "code",
   "execution_count": 66,
   "metadata": {},
   "outputs": [
    {
     "data": {
      "text/html": [
       "<div>\n",
       "<style scoped>\n",
       "    .dataframe tbody tr th:only-of-type {\n",
       "        vertical-align: middle;\n",
       "    }\n",
       "\n",
       "    .dataframe tbody tr th {\n",
       "        vertical-align: top;\n",
       "    }\n",
       "\n",
       "    .dataframe thead th {\n",
       "        text-align: right;\n",
       "    }\n",
       "</style>\n",
       "<table border=\"1\" class=\"dataframe\">\n",
       "  <thead>\n",
       "    <tr style=\"text-align: right;\">\n",
       "      <th></th>\n",
       "      <th>era</th>\n",
       "      <th>director</th>\n",
       "      <th>popularity</th>\n",
       "    </tr>\n",
       "  </thead>\n",
       "  <tbody>\n",
       "    <tr>\n",
       "      <th>2244</th>\n",
       "      <td>90s</td>\n",
       "      <td>Lilly Wachowski|Lana Wachowski</td>\n",
       "      <td>7.753899</td>\n",
       "    </tr>\n",
       "    <tr>\n",
       "      <th>1928</th>\n",
       "      <td>80s</td>\n",
       "      <td>Richard Marquand</td>\n",
       "      <td>4.828854</td>\n",
       "    </tr>\n",
       "    <tr>\n",
       "      <th>1721</th>\n",
       "      <td>70s</td>\n",
       "      <td>Ridley Scott</td>\n",
       "      <td>4.935897</td>\n",
       "    </tr>\n",
       "    <tr>\n",
       "      <th>1612</th>\n",
       "      <td>60s</td>\n",
       "      <td>Guy Hamilton</td>\n",
       "      <td>3.153791</td>\n",
       "    </tr>\n",
       "    <tr>\n",
       "      <th>974</th>\n",
       "      <td>10s</td>\n",
       "      <td>Colin Trevorrow</td>\n",
       "      <td>16.696886</td>\n",
       "    </tr>\n",
       "    <tr>\n",
       "      <th>592</th>\n",
       "      <td>00s</td>\n",
       "      <td>Patrick Tatopoulos</td>\n",
       "      <td>5.806897</td>\n",
       "    </tr>\n",
       "  </tbody>\n",
       "</table>\n",
       "</div>"
      ],
      "text/plain": [
       "      era                        director  popularity\n",
       "2244  90s  Lilly Wachowski|Lana Wachowski    7.753899\n",
       "1928  80s                Richard Marquand    4.828854\n",
       "1721  70s                    Ridley Scott    4.935897\n",
       "1612  60s                    Guy Hamilton    3.153791\n",
       "974   10s                 Colin Trevorrow   16.696886\n",
       "592   00s              Patrick Tatopoulos    5.806897"
      ]
     },
     "execution_count": 66,
     "metadata": {},
     "output_type": "execute_result"
    }
   ],
   "source": [
    "succ_dir_era = movie.groupby(['era', \n",
    "               'director'], as_index=False)['popularity'].mean().sort_values(by=['era',\n",
    "                                                                                 'popularity'], ascending=False).groupby('era').head(1)\n",
    "succ_dir_era"
   ]
  },
  {
   "cell_type": "code",
   "execution_count": 67,
   "metadata": {},
   "outputs": [
    {
     "data": {
      "image/png": "[encoded data removed]",
      "text/plain": [
       "<Figure size 1152x432 with 1 Axes>"
      ]
     },
     "metadata": {
      "needs_background": "light"
     },
     "output_type": "display_data"
    }
   ],
   "source": [
    "plt.figure(figsize=(16,6))\n",
    "sns.barplot(data=succ_dir_era, x='director', y='popularity', hue='era')\n",
    "plt.xlabel('Director', fontsize=12)\n",
    "plt.ylabel('Popularity', fontsize=12)\n",
    "plt.title('Most successful directors per era', fontsize=15);"
   ]
  },
  {
   "cell_type": "markdown",
   "metadata": {},
   "source": [
    "> as seen above, Patrick tatopulos directed the most popular movie in the 2000's while Colin Trevorrow did the 2010's"
   ]
  },
  {
   "cell_type": "code",
   "execution_count": 269,
   "metadata": {},
   "outputs": [
    {
     "data": {
      "text/html": [
       "<div>\n",
       "<style scoped>\n",
       "    .dataframe tbody tr th:only-of-type {\n",
       "        vertical-align: middle;\n",
       "    }\n",
       "\n",
       "    .dataframe tbody tr th {\n",
       "        vertical-align: top;\n",
       "    }\n",
       "\n",
       "    .dataframe thead th {\n",
       "        text-align: right;\n",
       "    }\n",
       "</style>\n",
       "<table border=\"1\" class=\"dataframe\">\n",
       "  <thead>\n",
       "    <tr style=\"text-align: right;\">\n",
       "      <th></th>\n",
       "      <th>era</th>\n",
       "      <th>lead_talent</th>\n",
       "      <th>popularity</th>\n",
       "    </tr>\n",
       "  </thead>\n",
       "  <tbody>\n",
       "    <tr>\n",
       "      <th>1668</th>\n",
       "      <td>90s</td>\n",
       "      <td>Edward Norton</td>\n",
       "      <td>5.140455</td>\n",
       "    </tr>\n",
       "    <tr>\n",
       "      <th>1479</th>\n",
       "      <td>80s</td>\n",
       "      <td>Mark Hamill</td>\n",
       "      <td>5.158648</td>\n",
       "    </tr>\n",
       "    <tr>\n",
       "      <th>1290</th>\n",
       "      <td>70s</td>\n",
       "      <td>Mark Hamill</td>\n",
       "      <td>12.037933</td>\n",
       "    </tr>\n",
       "    <tr>\n",
       "      <th>1210</th>\n",
       "      <td>60s</td>\n",
       "      <td>Keir Dullea</td>\n",
       "      <td>3.309196</td>\n",
       "    </tr>\n",
       "    <tr>\n",
       "      <th>740</th>\n",
       "      <td>10s</td>\n",
       "      <td>Chris Pratt</td>\n",
       "      <td>23.648484</td>\n",
       "    </tr>\n",
       "    <tr>\n",
       "      <th>547</th>\n",
       "      <td>00s</td>\n",
       "      <td>Sam Worthington</td>\n",
       "      <td>9.432768</td>\n",
       "    </tr>\n",
       "  </tbody>\n",
       "</table>\n",
       "</div>"
      ],
      "text/plain": [
       "      era      lead_talent  popularity\n",
       "1668  90s    Edward Norton    5.140455\n",
       "1479  80s      Mark Hamill    5.158648\n",
       "1290  70s      Mark Hamill   12.037933\n",
       "1210  60s      Keir Dullea    3.309196\n",
       "740   10s      Chris Pratt   23.648484\n",
       "547   00s  Sam Worthington    9.432768"
      ]
     },
     "execution_count": 269,
     "metadata": {},
     "output_type": "execute_result"
    }
   ],
   "source": [
    "succ_tal_era = movie.groupby(['era', \n",
    "               'lead_talent'], as_index=False)['popularity'].mean().sort_values(by=['era',\n",
    "                                                                                 'popularity'], ascending=False).groupby('era').head(1)\n",
    "succ_tal_era"
   ]
  },
  {
   "cell_type": "code",
   "execution_count": 270,
   "metadata": {
    "scrolled": false
   },
   "outputs": [
    {
     "data": {
      "image/png": "[encoded data removed]",
      "text/plain": [
       "<Figure size 576x432 with 1 Axes>"
      ]
     },
     "metadata": {
      "needs_background": "light"
     },
     "output_type": "display_data"
    }
   ],
   "source": [
    "plt.figure(figsize=(8,6))\n",
    "sns.barplot(data=succ_tal_era, x='lead_talent', y='popularity', hue='era')\n",
    "plt.xlabel('Lead Talent', fontsize=12)\n",
    "plt.ylabel('Popularity', fontsize=12)\n",
    "plt.title('Most successful Talents per era', fontsize=15);"
   ]
  },
  {
   "cell_type": "markdown",
   "metadata": {
    "collapsed": true
   },
   "source": [
    ">as shown above, Mark hamill starred in the most popular movies in both the 70's and 80's while chris pratt did the 2010's"
   ]
  },
  {
   "cell_type": "markdown",
   "metadata": {},
   "source": [
    "<a id='conclusions'></a>\n",
    "## Conclusions\n",
    "\n",
    "#### Conclusions per question were written underneath each graph, However, additional insights will be shared in this section"
   ]
  },
  {
   "cell_type": "markdown",
   "metadata": {
    "collapsed": true
   },
   "source": [
    "> popularity is highly correlated (60%-65%) with revenue using pearson and spearman correlation methods\n",
    "which is to be expected. Generally speaking, the more popular the movie the more sales and hence,  the more revenue\n",
    "\n",
    ">While the most amount of movies are produced in the Fall , they record the lowest revenue.\n",
    "In contrast, while the least amount of movies are produced in the spring , they record second highest revenue.\n",
    "**Looks like a classic case of Quantity vs Quality**\n",
    "\n",
    ">While Drama and Comedy were usually the most genre of movies produced in every era, counter intuitively, they were **neither** the most popular **nor** most profitable per era\n",
    "\n",
    ">While Science Fiction has been the most popular genre throughout the years , it is **not** the most profitable"
   ]
  }
 ],
 "metadata": {
  "kernelspec": {
   "display_name": "Python 3",
   "language": "python",
   "name": "python3"
  },
  "language_info": {
   "codemirror_mode": {
    "name": "ipython",
    "version": 3
   },
   "file_extension": ".py",
   "mimetype": "text/x-python",
   "name": "python",
   "nbconvert_exporter": "python",
   "pygments_lexer": "ipython3",
   "version": "3.7.7"
  }
 },
 "nbformat": 4,
 "nbformat_minor": 2
}
